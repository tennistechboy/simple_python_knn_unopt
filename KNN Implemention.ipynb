{
    "nbformat_minor": 1, 
    "cells": [
        {
            "execution_count": null, 
            "cell_type": "code", 
            "metadata": {
                "collapsed": true
            }, 
            "outputs": [], 
            "source": "Dataset = []\nnum_attributes = int(input(\"Enter the number of attributes,exclude class lable\"))\ndata_size=int(input(\"Enter the lenght of data set\"))\nK_value=int(input(\"Enter the value of K\"))\ndist_list=[]\nquery_data=[]"
        }, 
        {
            "execution_count": null, 
            "cell_type": "code", 
            "metadata": {}, 
            "outputs": [], 
            "source": "for hyper_step in range(data_size):\n    sub_list=[]\n    print(\"Enter the attributes of the \" + str(hyper_step) + \"th data row\")\n    for step in range(num_attributes):\n        sub_list.append(int(input(\"Enter the \" + str(step) + \"th attribute\")))\n    sub_list.append(int(input(\"Enter the th class lable\")))\n    Dataset.append(list(sub_list))"
        }, 
        {
            "execution_count": null, 
            "cell_type": "code", 
            "metadata": {}, 
            "outputs": [], 
            "source": "sub_list=[]\nprint(\"Enter the query attributes\")\nfor step in range(num_attributes):\n        query_data.append(int(input(\"Enter the \" + str(step) + \"th attribute\")))"
        }, 
        {
            "execution_count": null, 
            "cell_type": "code", 
            "metadata": {}, 
            "outputs": [], 
            "source": "for step in range(data_size):\n    sub_list=[]\n    dist=0\n    for hyper_step in range(num_attributes):\n        dist+=abs(query_data[hyper_step]-Dataset[step][hyper_step])\n    sub_list.append(dist)\n    sub_list.append(Dataset[step][num_attributes])\n    dist_list.append(sub_list)"
        }, 
        {
            "execution_count": null, 
            "cell_type": "code", 
            "metadata": {}, 
            "outputs": [], 
            "source": "dist_list.sort()\nprint(dist_list)"
        }, 
        {
            "execution_count": null, 
            "cell_type": "code", 
            "metadata": {}, 
            "outputs": [], 
            "source": "K_list=[]\nfor step in range(K_value):\n    K_list.append(dist_list[step][1])\nprint(max(set(K_list), key=K_list.count))"
        }
    ], 
    "metadata": {
        "kernelspec": {
            "display_name": "Python 3.6", 
            "name": "python3", 
            "language": "python"
        }, 
        "language_info": {
            "mimetype": "text/x-python", 
            "nbconvert_exporter": "python", 
            "version": "3.6.8", 
            "name": "python", 
            "file_extension": ".py", 
            "pygments_lexer": "ipython3", 
            "codemirror_mode": {
                "version": 3, 
                "name": "ipython"
            }
        }
    }, 
    "nbformat": 4
}